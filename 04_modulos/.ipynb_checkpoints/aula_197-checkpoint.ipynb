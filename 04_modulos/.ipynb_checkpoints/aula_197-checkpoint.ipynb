{
 "cells": [
  {
   "cell_type": "markdown",
   "id": "7cf7cd4c-ca0c-44d4-92dd-b5135df6d150",
   "metadata": {},
   "source": [
    "# Exemplo de Jupyter Notebook"
   ]
  },
  {
   "cell_type": "markdown",
   "id": "04ada55b-9504-4ad3-924b-56f6bec70e2d",
   "metadata": {},
   "source": [
    "Cria uma variável `a`"
   ]
  },
  {
   "cell_type": "code",
   "execution_count": 8,
   "id": "5d5ff977-4bc7-4c14-bfa4-b6ad61323a83",
   "metadata": {},
   "outputs": [
    {
     "data": {
      "text/plain": [
       "2"
      ]
     },
     "execution_count": 8,
     "metadata": {},
     "output_type": "execute_result"
    }
   ],
   "source": [
    "a = 2\n",
    "a"
   ]
  },
  {
   "cell_type": "markdown",
   "id": "86ec0648-39cc-4f27-a445-5b33e456f816",
   "metadata": {},
   "source": [
    "Cria uma variável `b` recebendo o valor da variável `a` em dobro"
   ]
  },
  {
   "cell_type": "code",
   "execution_count": 9,
   "id": "1b4b14c5-d25b-4cc1-8a11-4631ea63b2dd",
   "metadata": {},
   "outputs": [
    {
     "data": {
      "text/plain": [
       "4"
      ]
     },
     "execution_count": 9,
     "metadata": {},
     "output_type": "execute_result"
    }
   ],
   "source": [
    "b = a * 2\n",
    "b"
   ]
  },
  {
   "cell_type": "markdown",
   "id": "d1dbbed6-3f42-4729-95c8-7fb6bda1466e",
   "metadata": {},
   "source": [
    "Mostrao valor de `a` + `b`"
   ]
  },
  {
   "cell_type": "code",
   "execution_count": 10,
   "id": "75c764b5-e71a-4889-ade2-715ecd324f53",
   "metadata": {},
   "outputs": [
    {
     "data": {
      "text/plain": [
       "6"
      ]
     },
     "execution_count": 10,
     "metadata": {},
     "output_type": "execute_result"
    }
   ],
   "source": [
    "a + b"
   ]
  }
 ],
 "metadata": {
  "kernelspec": {
   "display_name": "Python 3 (ipykernel)",
   "language": "python",
   "name": "python3"
  },
  "language_info": {
   "codemirror_mode": {
    "name": "ipython",
    "version": 3
   },
   "file_extension": ".py",
   "mimetype": "text/x-python",
   "name": "python",
   "nbconvert_exporter": "python",
   "pygments_lexer": "ipython3",
   "version": "3.12.5"
  }
 },
 "nbformat": 4,
 "nbformat_minor": 5
}
